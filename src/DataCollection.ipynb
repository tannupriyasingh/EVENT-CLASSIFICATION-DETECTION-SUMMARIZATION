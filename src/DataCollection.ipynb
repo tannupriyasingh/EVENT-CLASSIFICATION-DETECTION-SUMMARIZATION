{
 "cells": [
  {
   "cell_type": "markdown",
   "metadata": {},
   "source": [
    "## Importing required libraries"
   ]
  },
  {
   "cell_type": "code",
   "execution_count": 1,
   "metadata": {},
   "outputs": [],
   "source": [
    "import webhoseio\n",
    "import json\n",
    "import time\n",
    "import csv"
   ]
  },
  {
   "cell_type": "markdown",
   "metadata": {},
   "source": [
    "## Using API key and creating query"
   ]
  },
  {
   "cell_type": "code",
   "execution_count": null,
   "metadata": {},
   "outputs": [],
   "source": [
    "webhoseio.config(token=\"db648ff9-2d88-4bfc-8c80-1c8c400b2e00\")\n",
    "query_params = {\n",
    "\t\"q\": \"Mob violence Civilians (India) site_type:news thread.country:IN language:english\",\n",
    "\t\"sort\": \"crawled\"\n",
    "    }"
   ]
  },
  {
   "cell_type": "markdown",
   "metadata": {},
   "source": [
    "## Storing the collected result in output"
   ]
  },
  {
   "cell_type": "code",
   "execution_count": null,
   "metadata": {},
   "outputs": [],
   "source": [
    "output = webhoseio.query(\"filterWebContent\", query_params)"
   ]
  },
  {
   "cell_type": "code",
   "execution_count": null,
   "metadata": {},
   "outputs": [],
   "source": [
    "#Run once\n",
    "count = 0\n",
    "availablePosts = 0\n",
    "identity = 1\n",
    "head = 0"
   ]
  },
  {
   "cell_type": "code",
   "execution_count": null,
   "metadata": {},
   "outputs": [],
   "source": [
    "filename = \"data_webhose_\"+str(count)+\".txt\"\n",
    "with open(filename, 'w') as outfile:  \n",
    "    json.dump(output, outfile)\n",
    "count +=1"
   ]
  },
  {
   "cell_type": "code",
   "execution_count": null,
   "metadata": {},
   "outputs": [],
   "source": [
    "availablePosts = output['moreResultsAvailable']\n",
    "while availablePosts > 0:\n",
    "    filename = \"data_webhose_\"+str(count)+\".txt\"\n",
    "    with open(filename, 'w') as outfile:  \n",
    "        output = webhoseio.get_next()\n",
    "        json.dump(output, outfile)\n",
    "        count+=1\n",
    "        availablePosts = output['moreResultsAvailable']"
   ]
  },
  {
   "cell_type": "code",
   "execution_count": null,
   "metadata": {},
   "outputs": [],
   "source": [
    "output = webhoseio.get_next()"
   ]
  },
  {
   "cell_type": "code",
   "execution_count": null,
   "metadata": {},
   "outputs": [],
   "source": [
    "with open('data_webhose.txt', 'a') as outfile:  \n",
    "    json.dump(output, outfile)"
   ]
  },
  {
   "cell_type": "code",
   "execution_count": null,
   "metadata": {},
   "outputs": [],
   "source": [
    "limit = count - 1\n",
    "for i in range(0, limit):\n",
    "    fileTocsv = \"data_webhose_\"+str(i)+\".txt\"\n",
    "    with open(fileTocsv) as data_file:  \n",
    "        data = json.load(data_file)\n",
    "    data_csv = open('Result_test.csv', 'a')\n",
    "    with data_csv:\n",
    "        writer = csv.writer(data_csv)\n",
    "        if head is 0:\n",
    "            header= [\"ID\",\"Title\",\"Text\",\"Source\",\"Date\",\"Language\",\"Country\",\"Persons\",\"Organizations\",\"Location\"]\n",
    "            writer.writerow(header);\n",
    "            head += 1\n",
    "        for p in data['posts']:\n",
    "            url=p['thread']['url']\n",
    "            title=p['title']\n",
    "            text=p['text'][:2000]\n",
    "            date=p['published']\n",
    "            lang=p['language']\n",
    "            country=p['thread']['country']\n",
    "            PersonString =\"\"\n",
    "            OrgString =\"\"\n",
    "            LocString =\"\"\n",
    "            for person in p['entities']['persons']:\n",
    "                PersonString = PersonString+person['name']+\",\"\n",
    "            for org in p['entities']['organizations']:\n",
    "                OrgString = OrgString+org['name']+\",\"\n",
    "            for loc in p['entities']['locations']:\n",
    "                LocString = LocString+loc['name']+\",\"\n",
    "            row=[identity,title,text,url,date,lang,country,PersonString,OrgString,LocString]\n",
    "            identity+=1\n",
    "            writer.writerow(row)\n",
    "    \n",
    "    "
   ]
  }
 ],
 "metadata": {
  "kernelspec": {
   "display_name": "Python 3",
   "language": "python",
   "name": "python3"
  },
  "language_info": {
   "codemirror_mode": {
    "name": "ipython",
    "version": 3
   },
   "file_extension": ".py",
   "mimetype": "text/x-python",
   "name": "python",
   "nbconvert_exporter": "python",
   "pygments_lexer": "ipython3",
   "version": "3.6.6"
  }
 },
 "nbformat": 4,
 "nbformat_minor": 2
}
