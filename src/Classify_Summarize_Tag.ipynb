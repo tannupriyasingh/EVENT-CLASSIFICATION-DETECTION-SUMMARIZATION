{
 "cells": [
  {
   "cell_type": "markdown",
   "metadata": {},
   "source": [
    "## Imports"
   ]
  },
  {
   "cell_type": "code",
   "execution_count": 183,
   "metadata": {},
   "outputs": [],
   "source": [
    "from sklearn import model_selection, preprocessing, linear_model, naive_bayes, metrics, svm\n",
    "from sklearn.feature_extraction.text import TfidfVectorizer, CountVectorizer\n",
    "from sklearn import decomposition, ensemble\n",
    "import pandas, xgboost, numpy, textblob, string\n",
    "from keras.preprocessing import text, sequence\n",
    "from keras import layers, models, optimizers\n",
    "import pandas as pd\n",
    "import numpy as np\n",
    "from IPython.display import display, HTML\n",
    "import nltk\n",
    "import re\n",
    "import networkx as nx\n",
    "import wget\n",
    "from sklearn.metrics.pairwise import cosine_similarity\n",
    "from nltk.tokenize import sent_tokenize\n",
    "from nltk.corpus import stopwords\n",
    "from nltk.stem.porter import PorterStemmer\n",
    "import spacy\n",
    "import os\n",
    "from sutime import SUTime\n",
    "import nereval\n",
    "from nereval import Entity\n",
    "from sklearn.externals import joblib \n",
    "from sklearn.metrics import confusion_matrix\n",
    "from sklearn.metrics import average_precision_score\n",
    "import seaborn as sn\n",
    "import matplotlib.pyplot as plt"
   ]
  },
  {
   "cell_type": "code",
   "execution_count": null,
   "metadata": {},
   "outputs": [],
   "source": [
    "# if your system does not have word embeddings download it using the code below.\n",
    "\n",
    "# url = 'http://nlp.stanford.edu/data/glove.6B.zip'\n",
    "# gloveDownload = wget.download(url)\n",
    "# word_embeddings = {}"
   ]
  },
  {
   "cell_type": "markdown",
   "metadata": {},
   "source": [
    "## Function definitions and declarations"
   ]
  },
  {
   "cell_type": "code",
   "execution_count": 184,
   "metadata": {},
   "outputs": [],
   "source": [
    "def createCols():\n",
    "    global date_col,parties_col,location_col,summary_col\n",
    "    date_col= []\n",
    "    parties_col =[]\n",
    "    location_col =[]\n",
    "    summary_col = []"
   ]
  },
  {
   "cell_type": "code",
   "execution_count": 185,
   "metadata": {},
   "outputs": [],
   "source": [
    "def removeStopWordsAndStem(Data):\n",
    "    corpus=[]\n",
    "    for i in range(0,Data['Text'].size):\n",
    "        text = removeStopWords(Data['Text'][i])\n",
    "        corpus.append(text)\n",
    "    return corpus"
   ]
  },
  {
   "cell_type": "code",
   "execution_count": 186,
   "metadata": {},
   "outputs": [],
   "source": [
    "def removeStopWords(sen):\n",
    "    text= re.sub('[^a-zA-z&]',' ',sen)\n",
    "    text= text.lower()\n",
    "    text= text.split()\n",
    "    ps= PorterStemmer();\n",
    "    text= [ps.stem(word) for word in text if not word in set(stopwords.words('english'))]\n",
    "    text= ' '.join(text)\n",
    "    return text"
   ]
  },
  {
   "cell_type": "code",
   "execution_count": 187,
   "metadata": {},
   "outputs": [],
   "source": [
    "def loadWordEmbeddings():\n",
    "    word_embeddings = {}\n",
    "    f = open('glove.6B/glove.6B.200d.txt', encoding='utf-8')\n",
    "    for line in f:\n",
    "        values = line.split()\n",
    "        word = values[0]\n",
    "        coefs = np.asarray(values[1:], dtype='float32')\n",
    "        word_embeddings[word] = coefs\n",
    "    f.close()\n",
    "    return word_embeddings"
   ]
  },
  {
   "cell_type": "code",
   "execution_count": 207,
   "metadata": {},
   "outputs": [],
   "source": [
    "def loadClassifiers():\n",
    "    classifier = joblib.load('/Users/harsha/Documents/cse635_AIR/Project/Main/Code/classifier.pkl')\n",
    "    tf = joblib.load('/Users/harsha/Documents/cse635_AIR/Project/Main/Code/tf')\n",
    "    return (classifier,tf)"
   ]
  },
  {
   "cell_type": "code",
   "execution_count": 221,
   "metadata": {},
   "outputs": [],
   "source": [
    "def classifyData(RawData):\n",
    "    corpus = removeStopWordsAndStem(RawData)\n",
    "    classifier,tf = loadClassifiers()\n",
    "    X= tf.transform(corpus).toarray()\n",
    "    Y = classifier.predict(X)\n",
    "    print(Y)\n",
    "    Category =[0]*len(Y)\n",
    "    riots = 0\n",
    "    violence = 0\n",
    "    for i in range(0,len(Y)):\n",
    "        if Y[i]==1:\n",
    "            Category[i] =\"Riots\"\n",
    "            riots = riots+1\n",
    "        elif Y[i]==2:\n",
    "            Category[i]=\"Violence\"\n",
    "            violence = violence+1\n",
    "        else:\n",
    "            Category[i]=\"None\"\n",
    "    print(Category)\n",
    "    RawData['CategoryPredicted'] = Category[:]\n",
    "    RawData.to_csv(\"/Users/harsha/Documents/cse635_AIR/Project/Main/Evaluation/ClassifiedData.tsv\",sep='\\t',encoding=\"utf-8\")\n",
    "    return RawData"
   ]
  },
  {
   "cell_type": "code",
   "execution_count": 209,
   "metadata": {},
   "outputs": [],
   "source": [
    "def loadClassifiedData():\n",
    "    df = pd.read_csv('/Users/harsha/Documents/cse635_AIR/Project/Main/Evaluation/ClassifiedData.tsv', encoding = \"ISO-8859-1\",delimiter ='\\t', quoting = 3)\n",
    "    return df"
   ]
  },
  {
   "cell_type": "code",
   "execution_count": 210,
   "metadata": {},
   "outputs": [],
   "source": [
    "def loadSUtime():\n",
    "    __file__ = \"/Users/harsha/Documents/cse635_AIR/Project/Main/Code/python-sutime-master/\"\n",
    "    jar_files = os.path.join(os.path.dirname(__file__), 'jars')\n",
    "    sutime = SUTime(jars=jar_files, mark_time_ranges=True)\n",
    "    return sutime"
   ]
  },
  {
   "cell_type": "code",
   "execution_count": 211,
   "metadata": {},
   "outputs": [],
   "source": [
    "def getSentenceVectors(clean_sentences,word_embeddings):\n",
    "    sentence_vectors = []\n",
    "    for i in clean_sentences:\n",
    "        if len(i) != 0:\n",
    "            v = sum([word_embeddings.get(w, np.zeros((200,))) for w in i.split()])/(len(i.split())+0.001)\n",
    "        else:\n",
    "            v = np.zeros((200,))\n",
    "        sentence_vectors.append(v)\n",
    "    return sentence_vectors"
   ]
  },
  {
   "cell_type": "code",
   "execution_count": 212,
   "metadata": {},
   "outputs": [],
   "source": [
    "def computeSimilarityMatrix(length, sentence_vectors):\n",
    "    sim_mat = np.zeros([length, length])\n",
    "    for i in range(length):\n",
    "        for j in range(length):\n",
    "            if i != j:\n",
    "                sim_mat[i][j] = cosine_similarity(sentence_vectors[i].reshape(1,200), sentence_vectors[j].reshape(1,200))[0,0]\n",
    "    return sim_mat"
   ]
  },
  {
   "cell_type": "code",
   "execution_count": 294,
   "metadata": {},
   "outputs": [],
   "source": [
    "def tagAndAddToCol(text,reference_date,sentences,sutime):\n",
    "    date=[]\n",
    "    parties=[]\n",
    "    location=[]\n",
    "    spacy_nlp = spacy.load('en')\n",
    "    j=0\n",
    "    while j<len(sentences) and (len(parties)==0 or len(location)==0):\n",
    "        document = spacy_nlp(sentences[j][1])\n",
    "        for element in document.ents:\n",
    "            print('Type: %s, Value: %s' % (element.label_, element))\n",
    "            if(element.label_ in [\"PERSON\", \"ORG\"]):\n",
    "                   parties.append(element)\n",
    "            if(element.label_ in [\"GPE\"]):\n",
    "                   location.append(element)\n",
    "        j = j+1\n",
    "    i=0\n",
    "    while i<len(sentences) and (len(date)==0):\n",
    "        try:\n",
    "            sentence = sentences[i][1]\n",
    "            date.append(sutime.parse(document,reference_date=reference_date)[0]['value'])\n",
    "            if date[0] == \"PAST_REF\" :\n",
    "                date.remove(\"PAST_REF\")\n",
    "            else:\n",
    "                date_col.append(\", \".join(date))\n",
    "        except:\n",
    "            print(\"exception\")\n",
    "            date_col.append(\"None\")\n",
    "        i = i+1\n",
    "    \n",
    "    parties_col.append(\", \".join(repr(e) for e in parties))\n",
    "    location_col.append(\", \".join(repr(e) for e in location))"
   ]
  },
  {
   "cell_type": "code",
   "execution_count": 214,
   "metadata": {},
   "outputs": [],
   "source": [
    "def summarizeAndTag():\n",
    "    df = loadClassifiedData()\n",
    "    sutime = loadSUtime()\n",
    "    lim = len(df['Text'])\n",
    "    word_embeddings = loadWordEmbeddings()\n",
    "    for i in range(0,lim):\n",
    "        print(i)\n",
    "        sentences = []\n",
    "        date=[]\n",
    "        sentences.append(sent_tokenize(df['Text'][i]))\n",
    "        sentences = [y for x in sentences for y in x]\n",
    "        clean_sentences = [removeStopWords(r) for r in sentences]\n",
    "        sentence_vectors = getSentenceVectors(clean_sentences,word_embeddings)\n",
    "        sim_mat = computeSimilarityMatrix(len(sentences),sentence_vectors)\n",
    "        nx_graph = nx.from_numpy_array(sim_mat)\n",
    "        scores = nx.pagerank(nx_graph,max_iter=100)\n",
    "        ranked_sentences = sorted(((scores[i],s) for i,s in enumerate(sentences)), reverse=True)\n",
    "        summary = ranked_sentences[0][1]+ranked_sentences[1][1]\n",
    "#         print(ranked_sentences)\n",
    "#         print(len(ranked_sentences))\n",
    "        summary_col.append(summary)\n",
    "        tagAndAddToCol(df['Text'][i],df['Date'][i],ranked_sentences,sutime)"
   ]
  },
  {
   "cell_type": "code",
   "execution_count": 248,
   "metadata": {},
   "outputs": [],
   "source": [
    "def writeToDisk(df):\n",
    "    df['Summary'] = summary_col[:]\n",
    "#     df['Event_Date'] = date_col[:]\n",
    "    df['Event_Location'] = location_col[:]\n",
    "    df['Parites_Involved']= parties_col[:]\n",
    "    df.to_csv(\"Summarized.csv\", encoding=\"utf-8\")"
   ]
  },
  {
   "cell_type": "code",
   "execution_count": 250,
   "metadata": {},
   "outputs": [],
   "source": [
    "def main():\n",
    "    createCols()\n",
    "    col = ['Text','Date']\n",
    "#     RawData = pd.DataFrame(data,columns=['Text','Date'])\n",
    "    RawData = pd.read_csv('/Users/harsha/Documents/cse635_AIR/Project/Main/Data/Evaluate.tsv',encoding = \"ISO-8859-1\",skipinitialspace=True,delimiter='\\t', quoting= 3,usecols=col)\n",
    "    display(HTML(RawData.to_html()))\n",
    "    RawData = classifyData(RawData)\n",
    "#     summarizeAndTag()\n",
    "#     writeToDisk(RawData)"
   ]
  },
  {
   "cell_type": "code",
   "execution_count": null,
   "metadata": {},
   "outputs": [],
   "source": [
    "if __name__ == '__main__':\n",
    "    main()"
   ]
  },
  {
   "cell_type": "markdown",
   "metadata": {},
   "source": [
    "## Generate Metrics"
   ]
  },
  {
   "cell_type": "code",
   "execution_count": 288,
   "metadata": {},
   "outputs": [],
   "source": [
    "from sklearn.metrics import confusion_matrix\n",
    "y_test= Predicted['Y_test']\n",
    "y_pred = Predicted['Y_Pred']\n",
    "cm = confusion_matrix(y_test,y_pred)"
   ]
  },
  {
   "cell_type": "code",
   "execution_count": 289,
   "metadata": {},
   "outputs": [
    {
     "name": "stderr",
     "output_type": "stream",
     "text": [
      "/usr/local/anaconda3/lib/python3.6/site-packages/ipykernel_launcher.py:1: FutureWarning: Method .as_matrix will be removed in a future version. Use .values instead.\n",
      "  \"\"\"Entry point for launching an IPython kernel.\n",
      "/usr/local/anaconda3/lib/python3.6/site-packages/ipykernel_launcher.py:2: FutureWarning: Method .as_matrix will be removed in a future version. Use .values instead.\n",
      "  \n"
     ]
    }
   ],
   "source": [
    "y_test = y_test.as_matrix()\n",
    "y_pred = y_pred.as_matrix()\n",
    "y_test = y_test.reshape((1, -1))\n",
    "y_pred = y_pred.reshape((1, -1))"
   ]
  },
  {
   "cell_type": "code",
   "execution_count": 290,
   "metadata": {},
   "outputs": [
    {
     "data": {
      "text/plain": [
       "array([[11,  9,  0],\n",
       "       [ 0, 33,  6],\n",
       "       [ 0, 12, 28]])"
      ]
     },
     "execution_count": 290,
     "metadata": {},
     "output_type": "execute_result"
    }
   ],
   "source": [
    "cm"
   ]
  },
  {
   "cell_type": "code",
   "execution_count": 279,
   "metadata": {},
   "outputs": [
    {
     "data": {
      "text/plain": [
       "numpy.ndarray"
      ]
     },
     "execution_count": 279,
     "metadata": {},
     "output_type": "execute_result"
    }
   ],
   "source": [
    "type(y_test)"
   ]
  },
  {
   "cell_type": "code",
   "execution_count": 292,
   "metadata": {},
   "outputs": [
    {
     "data": {
      "text/plain": [
       "<matplotlib.axes._subplots.AxesSubplot at 0x1b15a169b0>"
      ]
     },
     "execution_count": 292,
     "metadata": {},
     "output_type": "execute_result"
    },
    {
     "data": {
      "image/png": "[encoded data removed]",
      "text/plain": [
       "<Figure size 720x504 with 2 Axes>"
      ]
     },
     "metadata": {
      "needs_background": "light"
     },
     "output_type": "display_data"
    }
   ],
   "source": [
    "import seaborn as sn\n",
    "import pandas as pd\n",
    "import matplotlib.pyplot as plt\n",
    "\n",
    "df_cm = pd.DataFrame(cm, index = [\"None\", \"Riot/Protest\",\"Violence\"],\n",
    "                  columns = [\"Predicted None \", \"Predicted Riot/Protest\",\"Predicted Violence\"])\n",
    "plt.figure(figsize = (10,7))\n",
    "sn.heatmap(df_cm, annot=True,fmt='g')"
   ]
  },
  {
   "cell_type": "code",
   "execution_count": null,
   "metadata": {},
   "outputs": [],
   "source": []
  }
 ],
 "metadata": {
  "kernelspec": {
   "display_name": "Python 3",
   "language": "python",
   "name": "python3"
  },
  "language_info": {
   "codemirror_mode": {
    "name": "ipython",
    "version": 3
   },
   "file_extension": ".py",
   "mimetype": "text/x-python",
   "name": "python",
   "nbconvert_exporter": "python",
   "pygments_lexer": "ipython3",
   "version": "3.6.6"
  }
 },
 "nbformat": 4,
 "nbformat_minor": 2
}
